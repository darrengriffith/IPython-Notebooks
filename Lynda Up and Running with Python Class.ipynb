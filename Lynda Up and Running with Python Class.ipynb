{
 "cells": [
  {
   "cell_type": "markdown",
   "metadata": {},
   "source": [
    "<H1>Lynda Course - Up and Running with Python</H1>\n",
    "<br>\n",
    "<H2>Chapter 1</H2>\n",
    "<br>\n",
    "<h3>The <em>Hello World</em> example</h3>"
   ]
  },
  {
   "cell_type": "code",
   "execution_count": 11,
   "metadata": {
    "collapsed": false
   },
   "outputs": [
    {
     "name": "stdout",
     "output_type": "stream",
     "text": [
      "Hello\n"
     ]
    }
   ],
   "source": [
    "print(\"Hello\")"
   ]
  },
  {
   "cell_type": "markdown",
   "metadata": {},
   "source": [
    "<strong>Hello World as a defined function</strong>"
   ]
  },
  {
   "cell_type": "code",
   "execution_count": 16,
   "metadata": {
    "collapsed": false
   },
   "outputs": [
    {
     "name": "stdout",
     "output_type": "stream",
     "text": [
      "This line is not part of the function\n",
      "Hello Function\n"
     ]
    }
   ],
   "source": [
    "# define the function main\n",
    "# function scope is determined by indentation\n",
    "def main():\n",
    "    print(\"Hello Function\")\n",
    "    \n",
    "print(\"This line is not part of the function\")\n",
    "  \n",
    "# If this is being run as a main program, \n",
    "# then \"__name__\" will be defined as \"__main__\" and \n",
    "# the main() function will be called.\n",
    "if __name__ == \"__main__\":\n",
    "    main()"
   ]
  },
  {
   "cell_type": "markdown",
   "metadata": {},
   "source": [
    "<H2>Chapter 2</H2>\n",
    "<br>\n",
    "<h3>Variables</h3>\n",
    "<br>\n",
    "<strong>Defining variables</strong>"
   ]
  },
  {
   "cell_type": "code",
   "execution_count": 20,
   "metadata": {
    "collapsed": false
   },
   "outputs": [
    {
     "name": "stdout",
     "output_type": "stream",
     "text": [
      "0\n",
      "a string\n",
      "a string123\n"
     ]
    }
   ],
   "source": [
    "# Declare the variable f and initialize it\n",
    "f = 0\n",
    "print(f)\n",
    "\n",
    "# Redeclare f as a string\n",
    "f = \"a string\"\n",
    "print(f)\n",
    "\n",
    "# But different types cannot be combined (i.e. Python is strongly typed)\n",
    "# ERROR:\n",
    "# print(\"a string\" + 123)\n",
    "\n",
    "# The int must be converted to a string\n",
    "print(\"a string\" + str(123))"
   ]
  },
  {
   "cell_type": "markdown",
   "metadata": {},
   "source": [
    "<strong>Global versus local variables</strong>"
   ]
  },
  {
   "cell_type": "code",
   "execution_count": 27,
   "metadata": {
    "collapsed": false
   },
   "outputs": [
    {
     "name": "stdout",
     "output_type": "stream",
     "text": [
      "org g: 0\n",
      "org l: 1\n",
      "local l: def\n",
      "final l: 1\n",
      "final g: new value\n"
     ]
    }
   ],
   "source": [
    "# declare a global variable\n",
    "g = 0\n",
    "print(\"org g: \" + str(g))\n",
    "\n",
    "l = 1\n",
    "print(\"org l: \" + str(l))\n",
    "\n",
    "# local variable in a function\n",
    "def somefunction():\n",
    "    # declare local variable\n",
    "    l = \"def\"\n",
    "    print(\"local l: \" + l)\n",
    "    \n",
    "    #affect global variable\n",
    "    global g\n",
    "    g = \"new value\"\n",
    "    \n",
    "somefunction()\n",
    "print(\"final l: \" + str(l))\n",
    "print(\"final g: \" + str(g))"
   ]
  },
  {
   "cell_type": "markdown",
   "metadata": {},
   "source": [
    "<strong>Deleting variables</strong>"
   ]
  },
  {
   "cell_type": "code",
   "execution_count": 28,
   "metadata": {
    "collapsed": false
   },
   "outputs": [
    {
     "name": "stdout",
     "output_type": "stream",
     "text": [
      "a string\n"
     ]
    },
    {
     "ename": "NameError",
     "evalue": "name 'f' is not defined",
     "output_type": "error",
     "traceback": [
      "\u001b[1;31m---------------------------------------------------------------------------\u001b[0m",
      "\u001b[1;31mNameError\u001b[0m                                 Traceback (most recent call last)",
      "\u001b[1;32m<ipython-input-28-1faf200bffe0>\u001b[0m in \u001b[0;36m<module>\u001b[1;34m()\u001b[0m\n\u001b[0;32m      7\u001b[0m \u001b[1;31m# These variables no longer exist\u001b[0m\u001b[1;33m\u001b[0m\u001b[1;33m\u001b[0m\u001b[0m\n\u001b[0;32m      8\u001b[0m \u001b[1;31m# ERROR:\u001b[0m\u001b[1;33m\u001b[0m\u001b[1;33m\u001b[0m\u001b[0m\n\u001b[1;32m----> 9\u001b[1;33m \u001b[0mprint\u001b[0m\u001b[1;33m(\u001b[0m\u001b[0mf\u001b[0m\u001b[1;33m)\u001b[0m\u001b[1;33m\u001b[0m\u001b[0m\n\u001b[0m",
      "\u001b[1;31mNameError\u001b[0m: name 'f' is not defined"
     ]
    }
   ],
   "source": [
    "print(f)\n",
    "\n",
    "del f\n",
    "del g\n",
    "del l\n",
    "\n",
    "# These variables no longer exist\n",
    "# ERROR:\n",
    "print(f)"
   ]
  },
  {
   "cell_type": "markdown",
   "metadata": {},
   "source": [
    "<h3>Working with functions</h3>"
   ]
  },
  {
   "cell_type": "code",
   "execution_count": 35,
   "metadata": {
    "collapsed": false
   },
   "outputs": [
    {
     "name": "stdout",
     "output_type": "stream",
     "text": [
      "I am a function\n"
     ]
    }
   ],
   "source": [
    "# define a function\n",
    "def func1():\n",
    "    print(\"I am a function\")\n",
    "    \n",
    "func1()"
   ]
  },
  {
   "cell_type": "code",
   "execution_count": 36,
   "metadata": {
    "collapsed": false
   },
   "outputs": [
    {
     "name": "stdout",
     "output_type": "stream",
     "text": [
      "I am a function\n",
      "None\n"
     ]
    }
   ],
   "source": [
    "# func1() prints \"I am a function\"\n",
    "# then this print() prints the return value of func1(), which is None\n",
    "print(func1())"
   ]
  },
  {
   "cell_type": "code",
   "execution_count": 38,
   "metadata": {
    "collapsed": false
   },
   "outputs": [
    {
     "name": "stdout",
     "output_type": "stream",
     "text": [
      "<function func1 at 0x00000000044E3C80>\n"
     ]
    }
   ],
   "source": [
    "# This prints the function-object rather than the return value of the execution\n",
    "print(func1)"
   ]
  },
  {
   "cell_type": "markdown",
   "metadata": {},
   "source": [
    "<strong>Functions with arguments</strong>"
   ]
  },
  {
   "cell_type": "code",
   "execution_count": 33,
   "metadata": {
    "collapsed": false
   },
   "outputs": [
    {
     "name": "stdout",
     "output_type": "stream",
     "text": [
      "1   2\n"
     ]
    }
   ],
   "source": [
    "def func2(arg1, arg2):\n",
    "    print(arg1, \" \", arg2)\n",
    "    \n",
    "func2(1, 2)"
   ]
  },
  {
   "cell_type": "code",
   "execution_count": 34,
   "metadata": {
    "collapsed": false
   },
   "outputs": [
    {
     "name": "stdout",
     "output_type": "stream",
     "text": [
      "1   2\n",
      "None\n"
     ]
    }
   ],
   "source": [
    "print(func2(1, 2))"
   ]
  },
  {
   "cell_type": "markdown",
   "metadata": {},
   "source": [
    "<strong>Functions that return values</strong>"
   ]
  },
  {
   "cell_type": "code",
   "execution_count": 41,
   "metadata": {
    "collapsed": false
   },
   "outputs": [
    {
     "name": "stdout",
     "output_type": "stream",
     "text": [
      "64\n"
     ]
    }
   ],
   "source": [
    "def cube(arg1):\n",
    "    return arg1 * arg1 * arg1\n",
    "\n",
    "cube(3)\n",
    "\n",
    "print(cube(4))"
   ]
  },
  {
   "cell_type": "markdown",
   "metadata": {},
   "source": [
    "<strong>Functions with arguments that have default values</strong>"
   ]
  },
  {
   "cell_type": "code",
   "execution_count": 44,
   "metadata": {
    "collapsed": false
   },
   "outputs": [
    {
     "name": "stdout",
     "output_type": "stream",
     "text": [
      "2\n",
      "8\n",
      "8\n"
     ]
    }
   ],
   "source": [
    "def power(num, x= 1):\n",
    "    result = 1;\n",
    "    for i in range(x):\n",
    "        result = result * num\n",
    "    return result\n",
    "\n",
    "# 2 raised to 1, where 1 is the default value of x\n",
    "print(power(2))\n",
    "\n",
    "# 2 raised to 3\n",
    "print(power(2,3))\n",
    "\n",
    "# 2 raised to 3\n",
    "print(power(x=3, num=2))"
   ]
  },
  {
   "cell_type": "markdown",
   "metadata": {},
   "source": [
    "<strong>Functions with variable numbers of arguments</strong>"
   ]
  },
  {
   "cell_type": "code",
   "execution_count": 46,
   "metadata": {
    "collapsed": false
   },
   "outputs": [
    {
     "name": "stdout",
     "output_type": "stream",
     "text": [
      "10\n"
     ]
    }
   ],
   "source": [
    "def multi_add(*args):\n",
    "    result = 0\n",
    "    for x in args:\n",
    "        result = result + x\n",
    "    return result\n",
    "\n",
    "print(multi_add(1, 2, 3, 4))"
   ]
  },
  {
   "cell_type": "markdown",
   "metadata": {},
   "source": [
    "<h3>Conditionals</h3>"
   ]
  },
  {
   "cell_type": "code",
   "execution_count": 52,
   "metadata": {
    "collapsed": false
   },
   "outputs": [
    {
     "name": "stdout",
     "output_type": "stream",
     "text": [
      "x is less than y\n",
      "x is greater than y\n",
      "x equals y\n"
     ]
    }
   ],
   "source": [
    "def main(x = 10, y = 100):\n",
    "    if(x < y):\n",
    "        st = \"x is less than y\"\n",
    "    elif(x == y):\n",
    "        st = \"x equals y\"\n",
    "    else:\n",
    "        st = \"x is greater than y\"\n",
    "        \n",
    "    print(st)\n",
    "    \n",
    "if __name__ == \"__main__\":\n",
    "    main()\n",
    "    main(200, 100)\n",
    "    main(1,1)"
   ]
  },
  {
   "cell_type": "markdown",
   "metadata": {},
   "source": [
    "<strong>Conditional statements</strong>"
   ]
  },
  {
   "cell_type": "code",
   "execution_count": 55,
   "metadata": {
    "collapsed": false
   },
   "outputs": [
    {
     "name": "stdout",
     "output_type": "stream",
     "text": [
      "x is less than y\n",
      "x is greater than or equal to y\n",
      "x is greater than or equal to y\n"
     ]
    }
   ],
   "source": [
    "def main(x = 10, y = 100):\n",
    "    st = \"x is less than y\" if (x < y) else \"x is greater than or equal to y\"\n",
    "        \n",
    "    print(st)\n",
    "    \n",
    "if __name__ == \"__main__\":\n",
    "    main()\n",
    "    main(200, 100)\n",
    "    main(1,1)"
   ]
  },
  {
   "cell_type": "markdown",
   "metadata": {},
   "source": [
    "<h3>Looping</h3>\n",
    "<br>\n",
    "<strong>While loop</strong>"
   ]
  },
  {
   "cell_type": "code",
   "execution_count": 56,
   "metadata": {
    "collapsed": false
   },
   "outputs": [
    {
     "name": "stdout",
     "output_type": "stream",
     "text": [
      "0\n",
      "1\n",
      "2\n",
      "3\n",
      "4\n"
     ]
    }
   ],
   "source": [
    "def main():\n",
    "    x = 0\n",
    "    while(x < 5):\n",
    "        print(x)\n",
    "        x = x + 1\n",
    "    \n",
    "if __name__ == \"__main__\":\n",
    "    main()"
   ]
  },
  {
   "cell_type": "markdown",
   "metadata": {},
   "source": [
    "<strong>for loop</strong>"
   ]
  },
  {
   "cell_type": "code",
   "execution_count": 60,
   "metadata": {
    "collapsed": false
   },
   "outputs": [
    {
     "name": "stdout",
     "output_type": "stream",
     "text": [
      "5\n",
      "6\n",
      "7\n",
      "8\n",
      "9\n",
      "Sun\n",
      "Mon\n",
      "Tues\n",
      "Wed\n",
      "Thrus\n",
      "Fri\n",
      "Sat\n"
     ]
    }
   ],
   "source": [
    "def main():\n",
    "    for x in range(5,10):\n",
    "        print(x)\n",
    "        \n",
    "    days = [\"Sun\", \"Mon\", \"Tues\", \"Wed\", \"Thurs\", \"Fri\", \"Sat\"]\n",
    "    for x in days:\n",
    "        print(x)\n",
    "        \n",
    "if __name__ == \"__main__\":\n",
    "    main()"
   ]
  },
  {
   "cell_type": "markdown",
   "metadata": {},
   "source": [
    "<strong>break and continue</strong>"
   ]
  },
  {
   "cell_type": "code",
   "execution_count": 65,
   "metadata": {
    "collapsed": false
   },
   "outputs": [
    {
     "name": "stdout",
     "output_type": "stream",
     "text": [
      "break at 7\n",
      "5\n",
      "6\n",
      "continue at 7\n",
      "5\n",
      "6\n",
      "8\n",
      "9\n"
     ]
    }
   ],
   "source": [
    "def main():\n",
    "    print(\"break at 7\")\n",
    "    for x in range(5,10):\n",
    "        if(x == 7): break\n",
    "        print(x)\n",
    "        \n",
    "    print(\"continue at 7\")\n",
    "    for x in range(5,10):\n",
    "        if(x == 7): continue\n",
    "        print(x)\n",
    "        \n",
    "if __name__ == \"__main__\":\n",
    "    main()"
   ]
  },
  {
   "cell_type": "markdown",
   "metadata": {},
   "source": [
    "<strong>enumerate</strong>"
   ]
  },
  {
   "cell_type": "code",
   "execution_count": 64,
   "metadata": {
    "collapsed": false
   },
   "outputs": [
    {
     "name": "stdout",
     "output_type": "stream",
     "text": [
      "0 Sun\n",
      "1 Mon\n",
      "2 Tues\n",
      "3 Wed\n",
      "4 Thurs\n",
      "5 Fri\n",
      "6 Sat\n"
     ]
    }
   ],
   "source": [
    "def main():\n",
    "    days = [\"Sun\", \"Mon\", \"Tues\", \"Wed\", \"Thurs\", \"Fri\", \"Sat\"]\n",
    "    for i, d in enumerate(days):\n",
    "        print(i, d)\n",
    "        \n",
    "if __name__ == \"__main__\":\n",
    "    main()"
   ]
  },
  {
   "cell_type": "markdown",
   "metadata": {},
   "source": [
    "<h3>Classes</h3>\n",
    "<br>\n",
    "<strong>Defining a class</strong>"
   ]
  },
  {
   "cell_type": "code",
   "execution_count": 66,
   "metadata": {
    "collapsed": false
   },
   "outputs": [
    {
     "name": "stdout",
     "output_type": "stream",
     "text": [
      "myClass method1\n",
      "myClass method2: String Parameter\n"
     ]
    }
   ],
   "source": [
    "class myClass():\n",
    "    def method1(self):\n",
    "        print(\"myClass method1\")\n",
    "        \n",
    "    def method2(self, somestring):\n",
    "        print(\"myClass method2: \" + str(somestring))\n",
    "        \n",
    "def main():\n",
    "    c = myClass()\n",
    "    c.method1()\n",
    "    c.method2(\"String Parameter\")\n",
    "    \n",
    "if __name__ == \"__main__\":\n",
    "    main()"
   ]
  },
  {
   "cell_type": "markdown",
   "metadata": {},
   "source": [
    "<strong>Extending classes</strong>"
   ]
  },
  {
   "cell_type": "code",
   "execution_count": 71,
   "metadata": {
    "collapsed": false
   },
   "outputs": [
    {
     "name": "stdout",
     "output_type": "stream",
     "text": [
      "myClass method1\n",
      "anotherClass method1\n",
      "myClass method2: Calling the base class\n",
      "anotherClass method2\n"
     ]
    }
   ],
   "source": [
    "# Base classes go in the parenthisis \n",
    "class anotherClass(myClass):\n",
    "    \n",
    "    def method3(self):\n",
    "        print(\"anotherClass method2\")\n",
    "        \n",
    "    # This method is overriding        \n",
    "    def method1(self):\n",
    "        # Call the base class method\n",
    "        myClass.method1(self)\n",
    "        print(\"anotherClass method1\")\n",
    "        \n",
    "def main():\n",
    "    c = anotherClass()\n",
    "    c.method1()\n",
    "    c.method2(\"Calling the base class\")\n",
    "    c.method3()\n",
    "    \n",
    "if __name__ == \"__main__\":\n",
    "    main()\n",
    "        "
   ]
  },
  {
   "cell_type": "markdown",
   "metadata": {},
   "source": [
    "<h2>Chapter 3</h3>\n",
    "<br>\n",
    "<h3>Working with dates</h3>"
   ]
  },
  {
   "cell_type": "code",
   "execution_count": 79,
   "metadata": {
    "collapsed": false
   },
   "outputs": [
    {
     "name": "stdout",
     "output_type": "stream",
     "text": [
      "Today is  2015-08-20\n",
      "Date attributes:  20 8 2015\n",
      "Today's weekday #:  3\n",
      "Now is  2015-08-20 15:54:28.733288\n",
      "Current time is  15:54:28.733288\n"
     ]
    }
   ],
   "source": [
    "from datetime import date\n",
    "from datetime import time\n",
    "from datetime import datetime\n",
    "\n",
    "def main():\n",
    "    # Date objects\n",
    "    today = date.today()\n",
    "    print(\"Today is \", today)\n",
    "    \n",
    "    print(\"Date attributes: \", today.day, today.month, today.year)\n",
    "    \n",
    "    print(\"Today's weekday #: \", today.weekday())\n",
    "    \n",
    "    # DateTime Objects\n",
    "    now = datetime.now()\n",
    "    print(\"Now is \", now)\n",
    "    \n",
    "    # Current Time \n",
    "    timeNow = datetime.time(datetime.now())\n",
    "    print(\"Current time is \", timeNow)\n",
    "    \n",
    "if __name__ == \"__main__\":\n",
    "    main()\n",
    "    \n"
   ]
  },
  {
   "cell_type": "markdown",
   "metadata": {},
   "source": [
    "<strong>Formatting</strong>"
   ]
  },
  {
   "cell_type": "code",
   "execution_count": 86,
   "metadata": {
    "collapsed": false
   },
   "outputs": [
    {
     "name": "stdout",
     "output_type": "stream",
     "text": [
      "2015\n",
      "Thu, 20 Aug 15\n",
      "Thursday, 20 August 2015\n",
      "08/20/15 16:04:11, 08/20/15, 16:04:11\n"
     ]
    }
   ],
   "source": [
    "from datetime import datetime\n",
    "\n",
    "def main():\n",
    "    now = datetime.now()\n",
    "    \n",
    "    print(now.strftime(\"%Y\"))    \n",
    "    print(now.strftime(\"%a, %d %b %y\"))    \n",
    "    print(now.strftime(\"%A, %d %B %Y\"))\n",
    "    \n",
    "    # %c - locale's date and time format; %x - locale's date format, %X - locale's time format\n",
    "    print(now.strftime(\"%c, %x, %X\"))\n",
    "    \n",
    "if __name__ == \"__main__\":\n",
    "    main()"
   ]
  },
  {
   "cell_type": "markdown",
   "metadata": {},
   "source": [
    "<strong>Time deltas</strong>"
   ]
  },
  {
   "cell_type": "code",
   "execution_count": 98,
   "metadata": {
    "collapsed": false
   },
   "outputs": [
    {
     "name": "stdout",
     "output_type": "stream",
     "text": [
      "365 days, 5:01:00\n",
      "Today is                        2015-08-20 16:17:15.009902\n",
      "One year from now is            2016-08-19 16:17:15.009902\n",
      "2 weeks and 3 days from now is  2015-09-06 16:17:15.009902\n",
      "Yesterday was                   Wednesday\n",
      "April fool's day was  141  days ago\n",
      "April fool's day will be in  225 days, 0:00:00  days\n"
     ]
    }
   ],
   "source": [
    "from datetime import date\n",
    "from datetime import time\n",
    "from datetime import datetime\n",
    "from datetime import timedelta\n",
    "\n",
    "print(timedelta(days = 365, hours = 5, minutes = 1))\n",
    "\n",
    "print(\"Today is                       \", str(datetime.now()))\n",
    "print(\"One year from now is           \", str(datetime.now() + timedelta(days = 365)))\n",
    "print(\"2 weeks and 3 days from now is \", str(datetime.now() + timedelta(weeks = 2, days = 3)))\n",
    "print(\"Yesterday was                  \", (datetime.now() - timedelta(days = 1)).strftime(\"%A\"))\n",
    "\n",
    "today = date.today()\n",
    "afd = date(today.year, 4, 1) # April fool's day\n",
    "if(afd < today):\n",
    "    # April fool's day is past\n",
    "    print(\"April fool's day was \", (today - afd).days, \" days ago\" )\n",
    "    afd = afd.replace(year = today.year + 1)\n",
    "\n",
    "print(\"April fool's day will be in \", (afd - today), \" days\")\n"
   ]
  },
  {
   "cell_type": "markdown",
   "metadata": {},
   "source": [
    "<strong>Calendars</strong>"
   ]
  },
  {
   "cell_type": "code",
   "execution_count": 116,
   "metadata": {
    "collapsed": false
   },
   "outputs": [
    {
     "name": "stdout",
     "output_type": "stream",
     "text": [
      "    August 2015\n",
      "Mo Tu We Th Fr Sa Su\n",
      "                1  2\n",
      " 3  4  5  6  7  8  9\n",
      "10 11 12 13 14 15 16\n",
      "17 18 19 20 21 22 23\n",
      "24 25 26 27 28 29 30\n",
      "31\n",
      "\n"
     ]
    },
    {
     "data": {
      "text/html": [
       "<table border=\"0\" cellpadding=\"0\" cellspacing=\"0\" class=\"month\">\n",
       "<tr><th colspan=\"7\" class=\"month\">August 2015</th></tr>\n",
       "<tr><th class=\"mon\">Mon</th><th class=\"tue\">Tue</th><th class=\"wed\">Wed</th><th class=\"thu\">Thu</th><th class=\"fri\">Fri</th><th class=\"sat\">Sat</th><th class=\"sun\">Sun</th></tr>\n",
       "<tr><td class=\"noday\">&nbsp;</td><td class=\"noday\">&nbsp;</td><td class=\"noday\">&nbsp;</td><td class=\"noday\">&nbsp;</td><td class=\"noday\">&nbsp;</td><td class=\"sat\">1</td><td class=\"sun\">2</td></tr>\n",
       "<tr><td class=\"mon\">3</td><td class=\"tue\">4</td><td class=\"wed\">5</td><td class=\"thu\">6</td><td class=\"fri\">7</td><td class=\"sat\">8</td><td class=\"sun\">9</td></tr>\n",
       "<tr><td class=\"mon\">10</td><td class=\"tue\">11</td><td class=\"wed\">12</td><td class=\"thu\">13</td><td class=\"fri\">14</td><td class=\"sat\">15</td><td class=\"sun\">16</td></tr>\n",
       "<tr><td class=\"mon\">17</td><td class=\"tue\">18</td><td class=\"wed\">19</td><td class=\"thu\">20</td><td class=\"fri\">21</td><td class=\"sat\">22</td><td class=\"sun\">23</td></tr>\n",
       "<tr><td class=\"mon\">24</td><td class=\"tue\">25</td><td class=\"wed\">26</td><td class=\"thu\">27</td><td class=\"fri\">28</td><td class=\"sat\">29</td><td class=\"sun\">30</td></tr>\n",
       "<tr><td class=\"mon\">31</td><td class=\"noday\">&nbsp;</td><td class=\"noday\">&nbsp;</td><td class=\"noday\">&nbsp;</td><td class=\"noday\">&nbsp;</td><td class=\"noday\">&nbsp;</td><td class=\"noday\">&nbsp;</td></tr>\n",
       "</table>\n"
      ],
      "text/plain": [
       "<IPython.core.display.HTML object>"
      ]
     },
     "execution_count": 116,
     "metadata": {},
     "output_type": "execute_result"
    }
   ],
   "source": [
    "from datetime import datetime\n",
    "import calendar\n",
    "from IPython.core.display import HTML\n",
    "\n",
    "c = calendar.TextCalendar(calendar.MONDAY)\n",
    "print(c.formatmonth(datetime.now().year, datetime.now().month, 0, 0))\n",
    "\n",
    "# Wrap an HTML calendar in an HTML object so that IPython will render it\n",
    "h = calendar.HTMLCalendar(calendar.MONDAY)\n",
    "HTML(h.formatmonth(datetime.now().year, datetime.now().month))"
   ]
  },
  {
   "cell_type": "markdown",
   "metadata": {},
   "source": [
    "<h2>Chaper 4</h2>\n",
    "<br>\n",
    "<h3>Working with files</h3>"
   ]
  },
  {
   "cell_type": "code",
   "execution_count": 128,
   "metadata": {
    "collapsed": false
   },
   "outputs": [
    {
     "name": "stdout",
     "output_type": "stream",
     "text": [
      "Line 1\n",
      "Line 2\n",
      "Line 3\n",
      "Line 4\n",
      "Line 5\n",
      "Line 6\n",
      "Line 7\n",
      "Line 8\n",
      "Line 9\n",
      "Line 10\n",
      "Append 11\n",
      "Append 12\n",
      "Append 13\n",
      "Append 14\n",
      "Append 15\n",
      "\n",
      "-  Line 1\n",
      "\n",
      "-  Line 2\n",
      "\n",
      "-  Line 3\n",
      "\n",
      "-  Line 4\n",
      "\n",
      "-  Line 5\n",
      "\n",
      "-  Line 6\n",
      "\n",
      "-  Line 7\n",
      "\n",
      "-  Line 8\n",
      "\n",
      "-  Line 9\n",
      "\n",
      "-  Line 10\n",
      "\n",
      "-  Append 11\n",
      "\n",
      "-  Append 12\n",
      "\n",
      "-  Append 13\n",
      "\n",
      "-  Append 14\n",
      "\n",
      "-  Append 15\n",
      "\n"
     ]
    }
   ],
   "source": [
    "def main():\n",
    "    \n",
    "    f = open(\"testfile.txt\", \"w+\")\n",
    "    \n",
    "    for i in range(10):\n",
    "        f.write(\"Line %d\\n\" % (i+1))\n",
    "        \n",
    "    f.close()\n",
    "    \n",
    "    a = open(\"testfile.txt\", \"a+\")\n",
    "    \n",
    "    for j in range(5):\n",
    "        a.write(\"Append %d\\n\" % (j + 11))\n",
    "\n",
    "    a.close()\n",
    "    \n",
    "    r = open(\"testfile.txt\", \"r\")\n",
    "    \n",
    "    if r.mode == 'r':\n",
    "        contents = r.read()\n",
    "        print(contents)\n",
    "        \n",
    "    r.close()\n",
    "            \n",
    "    r = open(\"testfile.txt\", \"r\")\n",
    "    \n",
    "    if r.mode == 'r':\n",
    "        lines = r.readlines()\n",
    "        for line in lines:\n",
    "            print(\"- \", line)\n",
    "        \n",
    "    r.close()\n",
    "    \n",
    "if __name__ == \"__main__\":\n",
    "    main()"
   ]
  },
  {
   "cell_type": "markdown",
   "metadata": {},
   "source": [
    "<strong>Path utilities</strong>"
   ]
  },
  {
   "cell_type": "code",
   "execution_count": 132,
   "metadata": {
    "collapsed": false
   },
   "outputs": [
    {
     "name": "stdout",
     "output_type": "stream",
     "text": [
      "nt\n",
      "Exists?  True\n",
      "File?  True\n",
      "Directory?  False\n",
      "Real path:  C:\\Users\\dgriffith\\testfile.txt\n",
      "Real path and name:  ('C:\\\\Users\\\\dgriffith', 'testfile.txt')\n"
     ]
    }
   ],
   "source": [
    "import os\n",
    "from os import path\n",
    "\n",
    "def main():\n",
    "    print(os.name)\n",
    "    print(\"Exists? \", str(path.exists(\"testfile.txt\")))\n",
    "    print(\"File? \", str(path.isfile(\"testfile.txt\")))\n",
    "    print(\"Directory? \", str(path.isdir(\"testfile.txt\")))\n",
    "    \n",
    "    print(\"Real path: \", str(path.realpath(\"testfile.txt\")))\n",
    "    print(\"Real path and name: \", str(path.split(path.realpath(\"testfile.txt\"))))\n",
    "    \n",
    "if __name__ == \"__main__\":\n",
    "    main()"
   ]
  },
  {
   "cell_type": "markdown",
   "metadata": {},
   "source": [
    "<strong>Shell utilities</strong>"
   ]
  },
  {
   "cell_type": "code",
   "execution_count": 135,
   "metadata": {
    "collapsed": false
   },
   "outputs": [],
   "source": [
    "import os\n",
    "import shutil\n",
    "from os import path\n",
    "from zipfile import ZipFile\n",
    "\n",
    "def main():\n",
    "    if path.exists(\"testfile.txt\"):\n",
    "        src = path.realpath(\"testfile.txt\")\n",
    "        \n",
    "        head, tail = path.split(src)\n",
    "        \n",
    "        dst = src + \".bak\"\n",
    "        \n",
    "        shutil.copy(src,dst)\n",
    "        \n",
    "        with ZipFile(\"testfile.zip\", \"w\") as newzip:\n",
    "            newzip.write(\"testfile.txt\")\n",
    "            newzip.write(\"testfile.txt.bak\")\n",
    "            # The zip file is autoclosed when the local scoped is exited\n",
    "        \n",
    "if __name__ == \"__main__\":\n",
    "    main()"
   ]
  },
  {
   "cell_type": "markdown",
   "metadata": {},
   "source": [
    "<h2>Chapter 5</h2>\n",
    "<br>\n",
    "<h3>Fetching Internet data</h3>"
   ]
  },
  {
   "cell_type": "code",
   "execution_count": 151,
   "metadata": {
    "collapsed": false
   },
   "outputs": [
    {
     "name": "stdout",
     "output_type": "stream",
     "text": [
      "Result:  200\n",
      "<!doctype html><html itemscope=\"\" itemtype=\"http://schema.org/WebPage\" lang=\"en\"><head><meta content=\"Search the world's information, including webpages, images, videos and more. Google has many special features to help you find exactly what you're looking for.\" name=\"description\"><meta content=\"noodp\" name=\"robots\"><meta content=\"/images/google_favicon_128.png\" itemprop=\"image\"><title>Google</title><script>(function(){window.google={kEI:'cU_WVbX7HsStet3mqMgO',kEXPI:'3700330,3700372,4020727,4026241,4028875,4029815,4031109,4032235,4032500,4032678,4033307,4033344,4034882,4036527,4036669,4036848,4037333,4037457,4037569,4037933,4037982,4038012,4039462,4040112,4040136,4040360,4040677,4040849,4040865,4041323,4041440,4041507,4041835,4041898,4041974,4042053,4042125,4042180,4042384,4042695,4042832,4043031,4043255,4043411,4043439,4043440,4043468,4043564,4044216,4044307,4044309,4044346,4044428,4044533,4044703,4045161,4045275,8300096,8300199,8300203,8500394,8501295,8501406,8501489,8501987,10200083,10200095,10201335',authuser:0,kscs:'c9c918f0_10'};google.kHL='en';})();(function(){google.lc=[];google.li=0;google.getEI=function(a){for(var b;a&&(!a.getAttribute||!(b=a.getAttribute(\"eid\")));)a=a.parentNode;return b||google.kEI};google.getLEI=function(a){for(var b=null;a&&(!a.getAttribute||!(b=a.getAttribute(\"leid\")));)a=a.parentNode;return b};google.https=function(){return\"https:\"==window.location.protocol};google.ml=function(){return null};google.time=function(){return(new Date).getTime()};google.log=function(a,b,d,e,g){a=google.logUrl(a,b,d,e,g);if(\"\"!=a){b=new Image;var c=google.lc,f=google.li;c[f]=b;b.onerror=b.onload=b.onabort=function(){delete c[f]};window.google&&window.google.vel&&window.google.vel.lu&&window.google.vel.lu(a);b.src=a;google.li=f+1}};google.logUrl=function(a,b,d,e,g){var c=\"\",f=google.ls||\"\";if(!d&&-1==b.search(\"&ei=\")){var h=google.getEI(e),c=\"&ei=\"+h;-1==b.search(\"&lei=\")&&((e=google.getLEI(e))?c+=\"&lei=\"+e:h!=google.kEI&&(c+=\"&lei=\"+google.kEI))}a=d||\"/\"+(g||\"gen_204\")+\"?atyp=i&ct=\"+a+\"&cad=\"+b+c+f+\"&zx=\"+google.time();/^http:/i.test(a)&&google.https()&&(google.ml(Error(\"a\"),!1,{src:a,glmm:1}),a=\"\");return a};google.y={};google.x=function(a,b){google.y[a.id]=[a,b];return!1};google.load=function(a,b,d){google.x({id:a+k++},function(){google.load(a,b,d)})};var k=0;})();var _gjwl=location;function _gjuc(){var a=_gjwl.href.indexOf(\"#\");if(0<=a&&(a=_gjwl.href.substring(a),0<a.indexOf(\"&q=\")||0<=a.indexOf(\"#q=\"))&&(a=a.substring(1),-1==a.indexOf(\"#\"))){for(var d=0;d<a.length;){var b=d;\"&\"==a.charAt(b)&&++b;var c=a.indexOf(\"&\",b);-1==c&&(c=a.length);b=a.substring(b,c);if(0==b.indexOf(\"fp=\"))a=a.substring(0,d)+a.substring(c,a.length),c=d;else if(\"cad=h\"==b)return 0;d=c}_gjwl.href=\"/search?\"+a+\"&cad=h\";return 1}return 0}\n",
      "function _gjh(){!_gjuc()&&window.google&&google.x&&google.x({id:\"GJH\"},function(){google.nav&&google.nav.gjh&&google.nav.gjh()})};window._gjh&&_gjh();</script><style>#gbar,#guser{font-size:13px;padding-top:1px !important;}#gbar{height:22px}#guser{padding-bottom:7px !important;text-align:right}.gbh,.gbd{border-top:1px solid #c9d7f1;font-size:1px}.gbh{height:0;position:absolute;top:24px;width:100%}@media all{.gb1{height:22px;margin-right:.5em;vertical-align:top}#gbar{float:left}}a.gb1,a.gb4{text-decoration:underline !important}a.gb1,a.gb4{color:#00c !important}.gbi .gb4{color:#dd8e27 !important}.gbf .gb4{color:#900 !important}\n",
      "</style><style>body,td,a,p,.h{font-family:arial,sans-serif}body{margin:0;overflow-y:scroll}#gog{padding:3px 8px 0}td{line-height:.8em}.gac_m td{line-height:17px}form{margin-bottom:20px}.h{color:#36c}.q{color:#00c}.ts td{padding:0}.ts{border-collapse:collapse}em{font-weight:bold;font-style:normal}.lst{height:25px;width:496px}.gsfi,.lst{font:18px arial,sans-serif}.gsfs{font:17px arial,sans-serif}.ds{display:inline-box;display:inline-block;margin:3px 0 4px;margin-left:4px}input{font-family:inherit}a.gb1,a.gb2,a.gb3,a.gb4{color:#11c !important}body{background:#fff;color:black}a{color:#11c;text-decoration:none}a:hover,a:active{text-decoration:underline}.fl a{color:#36c}a:visited{color:#551a8b}a.gb1,a.gb4{text-decoration:underline}a.gb3:hover{text-decoration:none}#ghead a.gb2:hover{color:#fff !important}.sblc{padding-top:5px}.sblc a{display:block;margin:2px 0;margin-left:13px;font-size:11px}.lsbb{background:#eee;border:solid 1px;border-color:#ccc #999 #999 #ccc;height:30px}.lsbb{display:block}.ftl,#fll a{display:inline-block;margin:0 12px}.lsb{background:url(/images/srpr/nav_logo80.png) 0 -258px repeat-x;border:none;color:#000;cursor:pointer;height:30px;margin:0;outline:0;font:15px arial,sans-serif;vertical-align:top}.lsb:active{background:#ccc}.lst:focus{outline:none}</style><script></script></head><body bgcolor=\"#fff\"><script>(function(){var src='/images/nav_logo199.png';var iesg=false;document.body.onload = function(){window.n && window.n();if (document.images){new Image().src=src;}\n",
      "if (!iesg){document.f&&document.f.q.focus();document.gbqf&&document.gbqf.q.focus();}\n",
      "}\n",
      "})();</script><div id=\"mngb\">    <div id=gbar><nobr><b class=gb1>Search</b> <a class=gb1 href=\"http://www.google.com/imghp?hl=en&tab=wi\">Images</a> <a class=gb1 href=\"http://maps.google.com/maps?hl=en&tab=wl\">Maps</a> <a class=gb1 href=\"https://play.google.com/?hl=en&tab=w8\">Play</a> <a class=gb1 href=\"http://www.youtube.com/?tab=w1\">YouTube</a> <a class=gb1 href=\"http://news.google.com/nwshp?hl=en&tab=wn\">News</a> <a class=gb1 href=\"https://mail.google.com/mail/?tab=wm\">Gmail</a> <a class=gb1 href=\"https://drive.google.com/?tab=wo\">Drive</a> <a class=gb1 style=\"text-decoration:none\" href=\"http://www.google.com/intl/en/options/\"><u>More</u> &raquo;</a></nobr></div><div id=guser width=100%><nobr><span id=gbn class=gbi></span><span id=gbf class=gbf></span><span id=gbe></span><a href=\"http://www.google.com/history/optout?hl=en\" class=gb4>Web History</a> | <a  href=\"/preferences?hl=en\" class=gb4>Settings</a> | <a target=_top id=gb_70 href=\"https://accounts.google.com/ServiceLogin?hl=en&continue=http://www.google.com/\" class=gb4>Sign in</a></nobr></div><div class=gbh style=left:0></div><div class=gbh style=right:0></div>    </div><center><span id=\"prt\" style=\"display:block\"> <div><style>.pmoabs{background-color:#fff;border:1px solid #E5E5E5;color:#666;font-size:13px;padding-bottom:20px;position:absolute;right:2px;top:3px;z-index:986}#pmolnk{border-radius:2px;-moz-border-radius:2px;-webkit-border-radius:2px}.kd-button-submit{border:1px solid #3079ed;background-color:#4d90fe;background-image:-webkit-gradient(linear,left top,left bottom,from(#4d90fe),to(#4787ed));background-image:-webkit-linear-gradient(top,#4d90fe,#4787ed);background-image:-moz-linear-gradient(top,#4d90fe,#4787ed);background-image:-ms-linear-gradient(top,#4d90fe,#4787ed);background-image:-o-linear-gradient(top,#4d90fe,#4787ed);background-image:linear-gradient(top,#4d90fe,#4787ed);filter:progid:DXImageTransform.Microsoft.gradient(startColorStr='#4d90fe',EndColorStr='#4787ed')}.kd-button-submit:hover{border:1px solid #2f5bb7;background-color:#357ae8;background-image:-webkit-gradient(linear,left top,left bottom,from(#4d90fe),to(#357ae8));background-image:-webkit-linear-gradient(top,#4d90fe,#357ae8);background-image:-moz-linear-gradient(top,#4d90fe,#357ae8);background-image:-ms-linear-gradient(top,#4d90fe,#357ae8);background-image:-o-linear-gradient(top,#4d90fe,#357ae8);background-image:linear-gradient(top,#4d90fe,#357ae8);filter:progid:DXImageTransform.Microsoft.gradient(startColorStr='#4d90fe',EndColorStr='#357ae8')}.kd-button-submit:active{-webkit-box-shadow:inset 0 1px 2px rgba(0,0,0,0.3);-moz-box-shadow:inset 0 1px 2px rgba(0,0,0,0.3);box-shadow:inset 0 1px 2px rgba(0,0,0,0.3)}#pmolnk a{color:#fff;display:inline-block;font-weight:bold;padding:5px 20px;text-decoration:none;white-space:nowrap}.xbtn{color:#999;cursor:pointer;font-size:23px;line-height:5px;padding-top:5px}.padi{padding:0 8px 0 10px}.padt{padding:5px 20px 0 0;color:#444}.pads{text-align:left;max-width:200px}</style> <div class=\"pmoabs\" id=\"pmocntr2\" style=\"behavior:url(#default#userdata);display:none\"> <table border=\"0\"> <tr> <td colspan=\"2\"> <div class=\"xbtn\" onclick=\"google.promos&&google.promos.toast&& google.promos.toast.cpc()\" style=\"float:right\">&times;</div> </td> </tr> <tr> <td class=\"padi\" rowspan=\"2\"> <img src=\"/images/icons/product/chrome-48.png\"> </td> <td class=\"pads\">A better way to browse the web</td> </tr> <tr> <td class=\"padt\"> <div class=\"kd-button-submit\" id=\"pmolnk\"> <a href=\"/chrome/browser/?hl=en&amp;brand=CHNG&amp;utm_source=en-hpp&amp;utm_medium=hpp&amp;utm_campaign=en\" onclick=\"google.promos&&google.promos.toast&& google.promos.toast.cl()\">Get Google Chrome</a> </div> </td> </tr> </table> </div> <script type=\"text/javascript\">(function(){var a={v:{}};a.v.Ha=50;a.v.Fa=10;a.v.ma=\"body\";a.v.gb=!0;a.v.jb=function(b,c){var d=a.v.Ta();a.v.Va(d,b,c);a.v.kb(d);a.v.gb&&a.v.hb(d)};a.v.kb=function(b){(b=a.v.oa(b))&&0<b.forms.length&&b.forms[0].submit()};a.v.Ta=function(){var b=document.createElement(\"iframe\");b.height=0;b.width=0;b.style.overflow=\"hidden\";b.style.top=b.style.left=\"-100px\";b.style.position=\"absolute\";document.body.appendChild(b);return b};a.v.oa=function(b){return b.contentDocument||b.contentWindow.document};a.v.Va=function(b,c,d){b=a.v.oa(b);b.open();d=[\"<\",a.v.ma,'><form method=POST action=\"',d,'\">'];for(var e in c)c.hasOwnProperty(e)&&d.push('<textarea name=\"',e,'\">',c[e],\"</textarea>\");d.push(\"</form></\",a.v.ma,\">\");b.write(d.join(\"\"));b.close()};a.v.qa=function(b,c){c>a.v.Fa?google&&google.ml&&google.ml(Error(\"ogcdr\"),!1,{cause:\"timeout\"}):b.contentWindow?a.v.ib(b):window.setTimeout(function(){a.v.qa(b,c+1)},a.v.Ha)};a.v.ib=function(b){document.body.removeChild(b)};a.v.hb=function(b){a.v.Ra(b,\"load\",function(){a.v.qa(b,0)})};a.v.Ra=function(b,c,d){b.addEventListener?b.addEventListener(c,d,!1):b.attachEvent&&b.attachEvent(\"on\"+c,d)};var m={nb:0,M:1,N:2,T:5};a.s={};a.s.V={Ba:\"i\",S:\"d\",Da:\"l\"};a.s.J={W:\"0\",O:\"1\"};a.s.X={U:1,S:2,R:3};a.s.H={va:\"a\",za:\"g\",L:\"c\",Na:\"u\",Ma:\"t\",W:\"p\",Ga:\"pid\",xa:\"eid\",Oa:\"at\"};a.s.Ca=window.location.protocol+\"//www.google.com/_/og/promos/\";a.s.ya=\"g\";a.s.Pa=\"z\";a.s.ga=function(b,c,d,e){var f=null;switch(c){case m.M:f=window.gbar.up.gpd(b,d,!0);break;case m.T:f=window.gbar.up.gcc(e)}return null==f?0:parseInt(f,10)};a.s.Za=function(b,c,d){return c==m.M?null!=window.gbar.up.gpd(b,d,!0):!1};a.s.Y=function(b,c,d,e,f,h,k,l){var g={};g[a.s.H.W]=b;g[a.s.H.za]=c;g[a.s.H.va]=d;g[a.s.H.Oa]=e;g[a.s.H.xa]=f;g[a.s.H.Ga]=1;k&&(g[a.s.H.L]=k);l&&(g[a.s.H.Na]=l);if(h)g[a.s.H.Ma]=h;else return google.ml(Error(\"knu\"),!1,{cause:\"Token is not found\"}),null;return g};a.s.ja=function(b,c,d){if(b){var e=c?a.s.ya:a.s.Pa;c&&d&&(e+=\"?authuser=\"+d);a.v.jb(b,a.s.Ca+e)}};a.s.Ua=function(b,c,d,e,f,h,k){b=a.s.Y(c,b,a.s.V.S,a.s.X.S,d,f,null,e);a.s.ja(b,h,k)};a.s.Xa=function(b,c,d,e,f,h,k){b=a.s.Y(c,b,a.s.V.Ba,a.s.X.U,d,f,e,null);a.s.ja(b,h,k)};a.s.bb=function(b,c,d,e,f,h,k,l,g,n){switch(c){case m.T:window.gbar.up.dpc(e,f);break;case m.M:window.gbar.up.spd(b,d,1,!0);break;case m.N:g=g||!1,l=l||\"\",h=h||0,k=k||a.s.J.O,n=n||0,a.s.Ua(e,h,k,f,l,g,n)}};a.s.$a=function(b,c,d,e,f){return c==m.M?0<d&&a.s.ga(b,c,e,f)>=d:!1};a.s.Wa=function(b,c,d,e,f,h,k,l,g,n){switch(c){case m.T:window.gbar.up.iic(e,f);break;case m.M:c=a.s.ga(b,c,d,e)+1;window.gbar.up.spd(b,d,c.toString(),!0);break;case m.N:g=g||!1,l=l||\"\",h=h||0,k=k||a.s.J.W,n=n||0,a.s.Xa(e,h,k,1,l,g,n)}};a.s.ab=function(b,c,d,e,f,h){b=a.s.Y(c,b,a.s.V.Da,a.s.X.R,d,e,null,null);a.s.ja(b,f,h)};var p={lb:\"a\",ob:\"l\",mb:\"c\",wa:\"d\",R:\"h\",U:\"i\",zb:\"n\",O:\"x\",wb:\"ma\",xb:\"mc\",yb:\"mi\",pb:\"pa\",qb:\"pc\",tb:\"pi\",vb:\"pn\",ub:\"px\",rb:\"pd\",Ab:\"gpa\",Cb:\"gpi\",Db:\"gpn\",Eb:\"gpx\",Bb:\"gpd\"};a.o={};a.o.G={Ea:\"hplogo\",La:\"pmocntr2\"};a.o.J={Ka:\"0\",O:\"1\",ta:\"2\"};a.o.w=document.getElementById(a.o.G.La);a.o.Aa=16;a.o.Ia=2;a.o.Ja=20;google.promos=google.promos||{};google.promos.toast=google.promos.toast||{};a.o.P=function(b){a.o.w&&(a.o.w.style.display=b?\"\":\"none\",a.o.w.parentNode&&(a.o.w.parentNode.style.position=b?\"relative\":\"\"))};a.o.ra=function(b){try{if(a.o.w&&b&&b.es&&b.es.m){var c=window.gbar.rtl(document.body)?\"left\":\"right\";a.o.w.style[c]=b.es.m-a.o.Aa+a.o.Ia+\"px\";a.o.w.style.top=a.o.Ja+\"px\"}}catch(d){google.ml(d,!1,{cause:a.o.I+\"_PT\"})}};google.promos.toast.cl=function(){try{a.o.Z==m.N&&a.s.ab(a.o.ha,a.o.K,a.o.J.ta,a.o.la,a.o.ia,a.o.ka),window.gbar.up.sl(a.o.K,a.o.I,p.R,a.o.$(),1)}catch(b){google.ml(b,!1,{cause:a.o.I+\"_CL\"})}};google.promos.toast.cpc=function(){try{a.o.w&&(a.o.P(!1),a.s.bb(a.o.w,a.o.Z,a.o.G.na,a.o.ha,a.o.Sa,a.o.K,a.o.J.O,a.o.la,a.o.ia,a.o.ka),window.gbar.up.sl(a.o.K,a.o.I,p.wa,a.o.$(),1))}catch(b){google.ml(b,!1,{cause:a.o.I+\"_CPC\"})}};a.o.pa=function(){try{if(a.o.w){var b=276,c=document.getElementById(a.o.G.Ea);c&&(b=Math.max(b,c.offsetWidth));var d=parseInt(a.o.w.style.right,10)||0;a.o.w.style.visibility=2*(a.o.w.offsetWidth+d)+b>document.body.clientWidth?\"hidden\":\"\"}}catch(e){google.ml(e,!1,{cause:a.o.I+\"_HOSW\"})}};a.o.Qa=function(){var b=[\"gpd\",\"spd\",\"aeh\",\"sl\"];if(!window.gbar||!window.gbar.up)return!1;for(var c=0,d;d=b[c];c++)if(!(d in window.gbar.up))return!1;return!0};a.o.Ya=function(){return a.o.w.currentStyle&&\"absolute\"!=a.o.w.currentStyle.position};google.promos.toast.init=function(b,c,d,e,f,h,k,l,g,n,q,r){try{if(!a.o.Qa())google.ml(Error(\"apa\"),!1,{cause:a.o.I+\"_INIT\"});else if(a.o.w)if(e==m.N&&!l==!g)google.ml(Error(\"tku\"),!1,{cause:\"zwieback: \"+g+\", gaia: \"+l}),a.o.P(!1);else if(a.o.G.L=\"toast_count_\"+c+(q?\"_\"+q:\"\"),a.o.G.na=\"toast_dp_\"+c+(r?\"_\"+r:\"\"),a.o.I=d,a.o.K=b,a.o.Z=e,a.o.ha=c,a.o.Sa=f,a.o.la=l?l:g,a.o.ia=!!l,a.o.ka=k,a.s.Za(a.o.w,e,a.o.G.na,c)||a.s.$a(a.o.w,e,h,a.o.G.L,c)||a.o.Ya())a.o.P(!1);else{a.s.Wa(a.o.w,e,a.o.G.L,c,f,a.o.K,a.o.J.Ka,a.o.la,a.o.ia,a.o.ka);if(!n){try{window.gbar.up.aeh(window,\"resize\",a.o.pa)}catch(u){}window.lol=a.o.pa;window.gbar.elr&&a.o.ra(window.gbar.elr());window.gbar.elc&&window.gbar.elc(a.o.ra);a.o.P(!0)}window.gbar.up.sl(a.o.K,a.o.I,p.U,a.o.$())}}catch(t){google.ml(t,!1,{cause:a.o.I+\"_INIT\"})}};a.o.$=function(){var b=a.s.ga(a.o.w,a.o.Z,a.o.G.L,a.o.ha);return\"ic=\"+b};})();</script> <script type=\"text/javascript\">(function(){var sourceWebappPromoID=144002;var sourceWebappGroupID=5;var payloadType=5;var cookieMaxAgeSec=2592000;var dismissalType=5;var impressionCap=25;var gaiaXsrfToken='';var zwbkXsrfToken='';var kansasDismissalEnabled=false;var sessionIndex=0;var invisible=false;window.gbar&&gbar.up&&gbar.up.r&&gbar.up.r(payloadType,function(show){if (show){google.promos.toast.init(sourceWebappPromoID,sourceWebappGroupID,payloadType,dismissalType,cookieMaxAgeSec,impressionCap,sessionIndex,gaiaXsrfToken,zwbkXsrfToken,invisible,'0612');}\n",
      "});})();</script> </div> </span><br clear=\"all\" id=\"lgpd\"><div id=\"lga\"><img alt=\"Google\" height=\"95\" src=\"/images/srpr/logo9w.png\" style=\"padding:28px 0 14px\" width=\"269\" id=\"hplogo\" onload=\"window.lol&&lol()\"><br><br></div><form action=\"/search\" name=\"f\"><table cellpadding=\"0\" cellspacing=\"0\"><tr valign=\"top\"><td width=\"25%\">&nbsp;</td><td align=\"center\" nowrap=\"\"><input name=\"ie\" value=\"ISO-8859-1\" type=\"hidden\"><input value=\"en\" name=\"hl\" type=\"hidden\"><input name=\"source\" type=\"hidden\" value=\"hp\"><input name=\"biw\" type=\"hidden\"><input name=\"bih\" type=\"hidden\"><div class=\"ds\" style=\"height:32px;margin:4px 0\"><input style=\"color:#000;margin:0;padding:5px 8px 0 6px;vertical-align:top\" autocomplete=\"off\" class=\"lst\" value=\"\" title=\"Google Search\" maxlength=\"2048\" name=\"q\" size=\"57\"></div><br style=\"line-height:0\"><span class=\"ds\"><span class=\"lsbb\"><input class=\"lsb\" value=\"Google Search\" name=\"btnG\" type=\"submit\"></span></span><span class=\"ds\"><span class=\"lsbb\"><input class=\"lsb\" value=\"I'm Feeling Lucky\" name=\"btnI\" onclick=\"if(this.form.q.value)this.checked=1; else top.location='/doodles/'\" type=\"submit\"></span></span></td><td class=\"fl sblc\" align=\"left\" nowrap=\"\" width=\"25%\"><a href=\"/advanced_search?hl=en&amp;authuser=0\">Advanced search</a><a href=\"/language_tools?hl=en&amp;authuser=0\">Language tools</a></td></tr></table><input id=\"gbv\" name=\"gbv\" type=\"hidden\" value=\"1\"></form><div id=\"gac_scont\"></div><div style=\"font-size:83%;min-height:3.5em\"><br></div><span id=\"footer\"><div style=\"font-size:10pt\"><div style=\"margin:19px auto;text-align:center\" id=\"fll\"><a href=\"/intl/en/ads/\">Advertising&nbsp;Programs</a><a href=\"/services/\">Business Solutions</a><a href=\"https://plus.google.com/116899029375914044550\" rel=\"publisher\">+Google</a><a href=\"/intl/en/about.html\">About Google</a></div></div><p style=\"color:#767676;font-size:8pt\">&copy; 2015 - <a href=\"/intl/en/policies/privacy/\">Privacy</a> - <a href=\"/intl/en/policies/terms/\">Terms</a></p></span></center><script>(function(){window.google.cdo={height:0,width:0};(function(){var a=window.innerWidth,b=window.innerHeight;if(!a||!b)var c=window.document,d=\"CSS1Compat\"==c.compatMode?c.documentElement:c.body,a=d.clientWidth,b=d.clientHeight;a&&b&&(a!=google.cdo.width||b!=google.cdo.height)&&google.log(\"\",\"\",\"/client_204?&atyp=i&biw=\"+a+\"&bih=\"+b+\"&ei=\"+google.kEI);})();})();</script><div id=\"xjsd\"></div><div id=\"xjsi\" data-jiis=\"bp\"><script>(function(){function c(b){window.setTimeout(function(){var a=document.createElement(\"script\");a.src=b;document.getElementById(\"xjsd\").appendChild(a)},0)}google.dljp=function(b,a){google.xjsu=b;c(a)};google.dlj=c;})();(function(){window.google.xjsrm=[];})();if(google.y)google.y.first=[];if(!google.xjs){window._=window._||{};window._._DumpException=function(e){throw e};if(google.timers&&google.timers.load.t){google.timers.load.t.xjsls=new Date().getTime();}google.dljp('/xjs/_/js/k\\x3dxjs.hp.en_US.q-HkhQA3IUo.O/m\\x3dsb_he,d/rt\\x3dj/d\\x3d1/t\\x3dzcms/rs\\x3dACT90oEw2dc4XndJaenn1nzR4s0NaSjfQQ','/xjs/_/js/k\\x3dxjs.hp.en_US.q-HkhQA3IUo.O/m\\x3dsb_he,d/rt\\x3dj/d\\x3d1/t\\x3dzcms/rs\\x3dACT90oEw2dc4XndJaenn1nzR4s0NaSjfQQ');google.xjs=1;}google.pmc={\"sb_he\":{\"agen\":true,\"cgen\":true,\"client\":\"heirloom-hp\",\"dh\":true,\"ds\":\"\",\"fl\":true,\"host\":\"google.com\",\"jam\":0,\"jsonp\":true,\"msgs\":{\"cibl\":\"Clear Search\",\"dym\":\"Did you mean:\",\"lcky\":\"I\\u0026#39;m Feeling Lucky\",\"lml\":\"Learn more\",\"oskt\":\"Input tools\",\"psrc\":\"This search was removed from your \\u003Ca href=\\\"/history\\\"\\u003EWeb History\\u003C/a\\u003E\",\"psrl\":\"Remove\",\"sbit\":\"Search by image\",\"srch\":\"Google Search\"},\"ovr\":{},\"pq\":\"\",\"refoq\":true,\"refpd\":true,\"rfs\":[],\"scd\":10,\"sce\":5,\"stok\":\"ML5VAcyTPs48pP3avWKFoorVWnM\"},\"d\":{}};google.y.first.push(function(){if(google.med){google.med('init');google.initHistory();google.med('history');}});if(google.j&&google.j.en&&google.j.xi){window.setTimeout(google.j.xi,0);}\n",
      "</script></div></body></html>\n"
     ]
    }
   ],
   "source": [
    "import urllib.request\n",
    "from IPython.core.display import HTML\n",
    "\n",
    "def main():\n",
    "    with urllib.request.urlopen(\"http://google.com\") as webUrl:\n",
    "    \n",
    "        print(\"Result: \", str(webUrl.getcode()))\n",
    "    \n",
    "        data = webUrl.read()\n",
    "        print(data.decode('utf-8'))\n",
    "\n",
    "if __name__ == \"__main__\":\n",
    "    main()"
   ]
  },
  {
   "cell_type": "markdown",
   "metadata": {},
   "source": [
    "<strong>Access JSON feed</strong>"
   ]
  },
  {
   "cell_type": "code",
   "execution_count": 156,
   "metadata": {
    "collapsed": false
   },
   "outputs": [
    {
     "name": "stdout",
     "output_type": "stream",
     "text": [
      "200\n",
      "USGS Magnitude 2.5+ Earthquakes, Past Day\n",
      "32 events recorded\n",
      "21km NE of Helena, Oklahoma\n",
      "143km N of Road Town, British Virgin Islands\n",
      "144km WNW of Hakui, Japan\n",
      "45km WSW of Anchor Point, Alaska\n",
      "65km E of Amatignak Island, Alaska\n",
      "4km WSW of Lakhipur, India\n",
      "91km NW of San Antonio, Puerto Rico\n",
      "28km WNW of Fort Stockton, Texas\n",
      "13km ESE of Fritz Creek, Alaska\n",
      "157km ENE of Popondetta, Papua New Guinea\n",
      "15km SE of Anthony, Kansas\n",
      "60km SE of Ofunato, Japan\n",
      "127km SSW of Taron, Papua New Guinea\n",
      "89km SE of Homer, Alaska\n",
      "88km WSW of Kota Ternate, Indonesia\n",
      "80km ENE of Cantwell, Alaska\n",
      "69km S of Pagan, Northern Mariana Islands\n",
      "115km N of Brenas, Puerto Rico\n",
      "21km W of Perry, Oklahoma\n",
      "3km NW of San Juan, Puerto Rico\n",
      "38km W of Trinidad, Colorado\n",
      "9km ESE of Gilroy, California\n",
      "102km N of San Juan, Puerto Rico\n",
      "97km NNE of Vieques, Puerto Rico\n",
      "9km SW of Lixourion, Greece\n",
      "150km NNW of Sola, Vanuatu\n",
      "6km SE of Lawrenceburg, Kentucky\n",
      "13km NE of Cherokee, Oklahoma\n",
      "12km ENE of Cherokee, Oklahoma\n",
      "97km SSW of Nikolski, Alaska\n",
      "14km W of Helena, Oklahoma\n",
      "37km SSW of Nchelenge, Zambia\n",
      "4.0 144km WNW of Hakui, Japan\n",
      "5.5 157km ENE of Popondetta, Papua New Guinea\n",
      "4.6 60km SE of Ofunato, Japan\n",
      "4.6 127km SSW of Taron, Papua New Guinea\n",
      "5.7 88km WSW of Kota Ternate, Indonesia\n",
      "4.5 69km S of Pagan, Northern Mariana Islands\n",
      "4.4 9km SW of Lixourion, Greece\n",
      "4.5 150km NNW of Sola, Vanuatu\n",
      "5.1 37km SSW of Nchelenge, Zambia\n",
      "Events that were felt:\n",
      "3.9 4km WSW of Lakhipur, India  reported 3 times\n",
      "3.4 15km SE of Anthony, Kansas  reported 1 times\n",
      "5.7 88km WSW of Kota Ternate, Indonesia  reported 1 times\n",
      "3.6 21km W of Perry, Oklahoma  reported 6 times\n",
      "3.9 38km W of Trinidad, Colorado  reported 10 times\n",
      "2.8 9km ESE of Gilroy, California  reported 9 times\n",
      "4.4 9km SW of Lixourion, Greece  reported 5 times\n",
      "3.9 12km ENE of Cherokee, Oklahoma  reported 38 times\n",
      "5.1 37km SSW of Nchelenge, Zambia  reported 2 times\n"
     ]
    }
   ],
   "source": [
    "import urllib.request\n",
    "import json\n",
    "\n",
    "def printResults(data):\n",
    "    # Use the json module to load the string data into a dictionary\n",
    "    theJSON = json.loads(data)\n",
    "  \n",
    "    # now we can access the contents of the JSON like any other Python object\n",
    "    if \"title\" in theJSON[\"metadata\"]:\n",
    "        print (theJSON[\"metadata\"][\"title\"])\n",
    "  \n",
    "    # output the number of events, plus the magnitude and each event name  \n",
    "    count = theJSON[\"metadata\"][\"count\"];\n",
    "    print (str(count) + \" events recorded\")\n",
    "  \n",
    "    # for each event, print the place where it occurred\n",
    "    for i in theJSON[\"features\"]:\n",
    "        print (i[\"properties\"][\"place\"])\n",
    "\n",
    "    # print the events that only have a magnitude greater than 4\n",
    "    for i in theJSON[\"features\"]:\n",
    "        if i[\"properties\"][\"mag\"] >= 4.0:\n",
    "            print (\"%2.1f\" % i[\"properties\"][\"mag\"], i[\"properties\"][\"place\"])\n",
    "\n",
    "    # print only the events where at least 1 person reported feeling something\n",
    "    print (\"Events that were felt:\")\n",
    "    for i in theJSON[\"features\"]:\n",
    "        feltReports = i[\"properties\"][\"felt\"]\n",
    "        if (feltReports != None):\n",
    "            if (feltReports > 0):\n",
    "                print (\"%2.1f\" % i[\"properties\"][\"mag\"], i[\"properties\"][\"place\"], \" reported \" + str(feltReports) + \" times\")\n",
    "        \n",
    "def main():\n",
    "    urlData = \"http://earthquake.usgs.gov/earthquakes/feed/v1.0/summary/2.5_day.geojson\"\n",
    "    \n",
    "    # Open the URL and read the data\n",
    "    webUrl = urllib.request.urlopen(urlData)\n",
    "    print (webUrl.getcode())\n",
    "    if (webUrl.getcode() == 200):\n",
    "        data = webUrl.read()\n",
    "        data = data.decode(\"utf-8\") # in Python 3.x we need to explicitly decode the response to a string\n",
    "        printResults(data)\n",
    "    else:\n",
    "        print (\"Received an error from server, cannot retrieve results \" + str(webUrl.getcode()))    \n",
    "        \n",
    "if __name__ == \"__main__\":\n",
    "    main()\n",
    "    "
   ]
  },
  {
   "cell_type": "code",
   "execution_count": null,
   "metadata": {
    "collapsed": true
   },
   "outputs": [],
   "source": []
  },
  {
   "cell_type": "code",
   "execution_count": null,
   "metadata": {
    "collapsed": true
   },
   "outputs": [],
   "source": []
  }
 ],
 "metadata": {
  "kernelspec": {
   "display_name": "Python 3",
   "language": "python",
   "name": "python3"
  },
  "language_info": {
   "codemirror_mode": {
    "name": "ipython",
    "version": 3
   },
   "file_extension": ".py",
   "mimetype": "text/x-python",
   "name": "python",
   "nbconvert_exporter": "python",
   "pygments_lexer": "ipython3",
   "version": "3.4.3"
  }
 },
 "nbformat": 4,
 "nbformat_minor": 0
}
